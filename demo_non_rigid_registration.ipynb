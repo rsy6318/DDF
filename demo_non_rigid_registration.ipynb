{
 "cells": [
  {
   "cell_type": "code",
   "execution_count": 1,
   "metadata": {},
   "outputs": [
    {
     "name": "stderr",
     "output_type": "stream",
     "text": [
      "/data/siyuren_21/anaconda3/envs/pugeo/lib/python3.8/site-packages/pytorch3d/renderer/opengl/__init__.py:27: UserWarning: Can't import pucuda.gl, not importing MeshRasterizerOpenGL.\n",
      "  warnings.warn(\"Can't import pucuda.gl, not importing MeshRasterizerOpenGL.\")\n"
     ]
    }
   ],
   "source": [
    "import os\n",
    "os.environ['CUDA_VISIBLE_DEVICES']='4'\n",
    "import numpy as np\n",
    "import torch\n",
    "from pytorch3d.io import load_obj, save_obj\n",
    "from pytorch3d.structures import Meshes\n",
    "from pytorch3d.ops import knn_gather\n",
    "from tqdm import tqdm\n",
    "import trimesh\n",
    "\n",
    "from Closest_Point_on_Surface import DirDist_M2M\n",
    "from utils.LieAlgebra import so3\n",
    "from utils.deform_graph import get_deformation_graph_gdist,calculate_gdist"
   ]
  },
  {
   "cell_type": "markdown",
   "metadata": {},
   "source": [
    "Define the spacial smoothness of the deformed mesh."
   ]
  },
  {
   "cell_type": "code",
   "execution_count": 2,
   "metadata": {},
   "outputs": [],
   "source": [
    "def spacial_smoothing(offset, faces, norm='l2'):\n",
    "    assert norm in ['l1','l2']\n",
    "    v1_idx=faces[:,0]\n",
    "    v2_idx=faces[:,1]\n",
    "    v3_idx=faces[:,2]\n",
    "    v1_offset=offset[v1_idx]    #(M,3)\n",
    "    v2_offset=offset[v2_idx]\n",
    "    v3_offset=offset[v3_idx]\n",
    "    if norm=='l2':\n",
    "        diff_12=torch.mean((v1_offset-v2_offset)**2)\n",
    "        diff_13=torch.mean((v1_offset-v3_offset)**2)\n",
    "        diff_23=torch.mean((v2_offset-v3_offset)**2)\n",
    "        return (diff_12+diff_13+diff_23)/3\n",
    "    if norm=='l1':\n",
    "        diff_12=torch.mean(torch.abs(v1_offset-v2_offset))\n",
    "        diff_13=torch.mean(torch.abs(v1_offset-v3_offset))\n",
    "        diff_23=torch.mean(torch.abs(v2_offset-v3_offset))\n",
    "        return (diff_12+diff_13+diff_23)/3"
   ]
  },
  {
   "cell_type": "code",
   "execution_count": 3,
   "metadata": {},
   "outputs": [],
   "source": [
    "def deform_vertices(nodes,deform_lie,vertices,knn_index,weights):\n",
    "    #nodes:         (M,3)\n",
    "    #deform_lie:    (M,6)\n",
    "    #vertices:      (N,3)\n",
    "    #knn_index:     (N,K)\n",
    "    #weights:       (N,K)\n",
    "    \n",
    "    knn_nodes=knn_gather(nodes.unsqueeze(0),knn_index.long().unsqueeze(0)).squeeze(0)           #(N,K,3)\n",
    "    knn_deform_lie=knn_gather(deform_lie.unsqueeze(0),knn_index.long().unsqueeze(0)).squeeze(0) #(N,K,6)\n",
    "\n",
    "    knn_rot=so3.exp(knn_deform_lie[...,:3]) #(N,K,3,3)\n",
    "    knn_trans=knn_deform_lie[...,3:]        #(N,K,3)   \n",
    "\n",
    "    vertices_new_knn=torch.matmul(knn_rot,(vertices.unsqueeze(1)-knn_nodes).unsqueeze(-1)).squeeze(-1)+knn_nodes+knn_trans                                         \n",
    "    vertices_new=torch.sum(vertices_new_knn*weights.unsqueeze(-1),dim=1)    #(N,3)\n",
    "\n",
    "    #np.savetxt('knn_nodes.xyz',knn_nodes[0,:,:].cpu().detach().numpy())\n",
    "    #np.savetxt('vertices.xyz',vertices[0:1,:].cpu().detach().numpy())\n",
    "    #assert False\n",
    "    return vertices_new"
   ]
  },
  {
   "cell_type": "markdown",
   "metadata": {},
   "source": [
    "Define the loss function. Here we set the number of reference points as 20000, and the std as 0.05."
   ]
  },
  {
   "cell_type": "code",
   "execution_count": 4,
   "metadata": {},
   "outputs": [],
   "source": [
    "loss_func=DirDist_M2M(20000,0.05)\n",
    "device='cuda'\n",
    "Niter=1000\n",
    "w_smooth=500\n",
    "R_ratio=5\n",
    "KNN=5"
   ]
  },
  {
   "cell_type": "markdown",
   "metadata": {},
   "source": [
    "Optimize the vertex-wise offsets to get the deformed mesh then save it."
   ]
  },
  {
   "cell_type": "code",
   "execution_count": 5,
   "metadata": {},
   "outputs": [
    {
     "name": "stderr",
     "output_type": "stream",
     "text": [
      "/data/siyuren_21/anaconda3/envs/pugeo/lib/python3.8/site-packages/pytorch3d/io/obj_io.py:531: UserWarning: No mtl file provided\n",
      "  warnings.warn(\"No mtl file provided\")\n",
      "100%|██████████| 1000/1000 [01:38<00:00, 10.19it/s]\n"
     ]
    }
   ],
   "source": [
    "src_obj='demo_data/non_rigid_registration/mesh_0042.obj'\n",
    "trg_obj='demo_data/non_rigid_registration/mesh_0044.obj'\n",
    "tgt_verts, tgt_faces,_ = load_obj(trg_obj)\n",
    "tgt_faces_idx = tgt_faces.verts_idx.to(device)\n",
    "tgt_verts = tgt_verts.to(device)\n",
    "#trg_mesh = Meshes(verts=[verts], faces=[faces_idx])\n",
    "\n",
    "src_verts, src_faces, _ = load_obj(src_obj)\n",
    "src_faces_idx = src_faces.verts_idx.to(device)\n",
    "src_verts = src_verts.to(device)\n",
    "#src_mesh = Meshes(verts=[verts], faces=[faces_idx])\n",
    "\n",
    "verts_np=src_verts.cpu().numpy()\n",
    "faces_np=src_faces_idx.cpu().numpy()\n",
    "\n",
    "average_edge=np.mean(trimesh.load_mesh(src_obj).edges_unique_length)\n",
    "dist_thres=float(average_edge*R_ratio)\n",
    "\n",
    "gdist_matrix=calculate_gdist(verts_np,faces_np,dist_thres)\n",
    "\n",
    "gdist_matrix=torch.from_numpy(gdist_matrix).cuda().float()\n",
    "\n",
    "deformation_nodes=get_deformation_graph_gdist(src_verts,gdist_matrix,dist_thres)\n",
    "\n",
    "square_distance=torch.sum((deformation_nodes[:,None,:]-src_verts[None,:,:])**2,dim=-1)  #(M,N)\n",
    "node_idx=torch.min(square_distance,dim=1)[1]\n",
    "gdist_matrix=gdist_matrix[:,node_idx]\n",
    "\n",
    "knn_dist,knn_index=torch.topk(gdist_matrix,k=KNN,dim=1,largest=False)\n",
    "\n",
    "weights=1-knn_dist**2/torch.tensor(dist_thres**2).to(knn_dist)\n",
    "weights=torch.clamp(weights,min=0)\n",
    "weights=weights**3\n",
    "weights=weights/torch.sum(weights,dim=1,keepdim=True)\n",
    "\n",
    "deform_lie = torch.full([deformation_nodes.shape[0],6], 0.0, device=device, requires_grad=True)\n",
    "        \n",
    "optimizer = torch.optim.SGD([deform_lie], lr=2, momentum=0.9)\n",
    "\n",
    "scheduler=torch.optim.lr_scheduler.CosineAnnealingLR(optimizer,Niter,5e-2)\n",
    "\n",
    "for iter in tqdm(range(1,1+Niter)):\n",
    "    optimizer.zero_grad()\n",
    "\n",
    "    new_verts=deform_vertices(deformation_nodes,deform_lie,src_verts,knn_index,weights)\n",
    "                \n",
    "    verts_offset=new_verts-src_verts\n",
    "\n",
    "    #new_src_mesh = src_mesh.offset_verts(verts_offset)\n",
    "    loss_geo=loss_func(new_verts, src_faces_idx, tgt_verts, tgt_faces_idx)\n",
    "    loss_smooth=spacial_smoothing(verts_offset,src_faces_idx,'l2')\n",
    "    loss = loss_geo +loss_smooth * w_smooth \n",
    "            \n",
    "    loss.backward()\n",
    "    optimizer.step()\n",
    "    \n",
    "    #final_verts, final_faces = new_src_mesh.get_mesh_verts_faces(0)\n",
    "\n",
    "    # Store the predicted mesh using save_obj\n",
    "    scheduler.step()\n",
    "\n",
    "save_obj('non_rigid_reg_result.obj', new_verts, src_faces_idx)"
   ]
  }
 ],
 "metadata": {
  "kernelspec": {
   "display_name": "pugeo",
   "language": "python",
   "name": "python3"
  },
  "language_info": {
   "codemirror_mode": {
    "name": "ipython",
    "version": 3
   },
   "file_extension": ".py",
   "mimetype": "text/x-python",
   "name": "python",
   "nbconvert_exporter": "python",
   "pygments_lexer": "ipython3",
   "version": "3.8.13"
  }
 },
 "nbformat": 4,
 "nbformat_minor": 2
}
