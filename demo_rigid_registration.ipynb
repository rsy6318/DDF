{
 "cells": [
  {
   "cell_type": "code",
   "execution_count": 1,
   "metadata": {},
   "outputs": [
    {
     "name": "stdout",
     "output_type": "stream",
     "text": [
      "Jupyter environment detected. Enabling Open3D WebVisualizer.\n",
      "[Open3D INFO] WebRTC GUI backend enabled.\n",
      "[Open3D INFO] WebRTCWindowSystem: HTTP handshake server disabled.\n"
     ]
    }
   ],
   "source": [
    "import os\n",
    "#os.environ['CUDA_VISIBLE_DEVICES']='4'\n",
    "import numpy as np\n",
    "import torch\n",
    "import open3d as o3d\n",
    "from tqdm import tqdm\n",
    "\n",
    "from DDM import DDM_P2P\n",
    "from utils.LieAlgebra import *"
   ]
  },
  {
   "cell_type": "markdown",
   "metadata": {},
   "source": [
    "Define the loss functoin. Here we set up_ratio=10, K=5, std=0.05, and beta=10."
   ]
  },
  {
   "cell_type": "code",
   "execution_count": 2,
   "metadata": {},
   "outputs": [],
   "source": [
    "loss_func=DDM_P2P(10,5,0.05,True,10)"
   ]
  },
  {
   "cell_type": "markdown",
   "metadata": {},
   "source": [
    "Optimize the transformation between source and target points by minimizing the distance between them."
   ]
  },
  {
   "cell_type": "code",
   "execution_count": 3,
   "metadata": {},
   "outputs": [
    {
     "name": "stderr",
     "output_type": "stream",
     "text": [
      "100%|██████████| 2000/2000 [00:45<00:00, 44.04it/s]"
     ]
    },
    {
     "name": "stdout",
     "output_type": "stream",
     "text": [
      "the transformation is: \n",
      "[[ 0.97161245 -0.05005142  0.23122309  0.15128468]\n",
      " [ 0.05735305  0.99804187 -0.02496088  0.20182344]\n",
      " [-0.22952099  0.03751364  0.97258055 -0.27950671]\n",
      " [ 0.          0.          0.          1.        ]]\n"
     ]
    },
    {
     "name": "stderr",
     "output_type": "stream",
     "text": [
      "\n"
     ]
    }
   ],
   "source": [
    "n_iters=2000\n",
    "\n",
    "src_pcd=o3d.io.read_point_cloud('demo_data/rigid_registration/src.ply')\n",
    "tgt_pcd=o3d.io.read_point_cloud('demo_data/rigid_registration/tgt.ply')\n",
    "\n",
    "src=np.array(src_pcd.points)\n",
    "tgt=np.array(tgt_pcd.points)\n",
    "\n",
    "src=torch.from_numpy(src).cuda().float()\n",
    "tgt=torch.from_numpy(tgt).cuda().float()\n",
    "\n",
    "Reconstruction=Reconstruction_point(zero_init=True).cuda()\n",
    "optimizer=torch.optim.Adam(Reconstruction.parameters(),lr=2e-2)\n",
    "scheduler=torch.optim.lr_scheduler.CosineAnnealingLR(optimizer,n_iters,2e-4)\n",
    "\n",
    "for _ in tqdm(range(n_iters)):\n",
    "    transformed_src,_=Reconstruction(src,None)\n",
    "    loss=loss_func(transformed_src.unsqueeze(0),tgt.unsqueeze(0))\n",
    "    optimizer.zero_grad()\n",
    "    loss.backward()\n",
    "    optimizer.step()\n",
    "    scheduler.step()\n",
    "\n",
    "trans = Reconstruction.Transform()\n",
    "transforms = np.eye(4, 4)\n",
    "transforms[:3, :3] = trans[0].detach().cpu().numpy()\n",
    "transforms[:3, 3] = trans[1].detach().cpu().numpy()\n",
    "\n",
    "transforms[:3,:3]=transforms[:3,:3].T\n",
    "\n",
    "del optimizer, Reconstruction\n",
    "\n",
    "print('the transformation is: ')\n",
    "print(transforms)"
   ]
  }
 ],
 "metadata": {
  "kernelspec": {
   "display_name": "torch2",
   "language": "python",
   "name": "python3"
  },
  "language_info": {
   "codemirror_mode": {
    "name": "ipython",
    "version": 3
   },
   "file_extension": ".py",
   "mimetype": "text/x-python",
   "name": "python",
   "nbconvert_exporter": "python",
   "pygments_lexer": "ipython3",
   "version": "3.9.21"
  }
 },
 "nbformat": 4,
 "nbformat_minor": 2
}
